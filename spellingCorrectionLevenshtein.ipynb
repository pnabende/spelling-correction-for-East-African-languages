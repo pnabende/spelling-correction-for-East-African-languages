{
  "nbformat": 4,
  "nbformat_minor": 0,
  "metadata": {
    "colab": {
      "provenance": [],
      "authorship_tag": "ABX9TyPyvp4hAE0vxcQJfy+nzBFA",
      "include_colab_link": true
    },
    "kernelspec": {
      "name": "python3",
      "display_name": "Python 3"
    },
    "language_info": {
      "name": "python"
    }
  },
  "cells": [
    {
      "cell_type": "markdown",
      "metadata": {
        "id": "view-in-github",
        "colab_type": "text"
      },
      "source": [
        "<a href=\"https://colab.research.google.com/github/pnabende/spelling-correction-for-East-African-languages/blob/master/spellingCorrectionLevenshtein.ipynb\" target=\"_parent\"><img src=\"https://colab.research.google.com/assets/colab-badge.svg\" alt=\"Open In Colab\"/></a>"
      ]
    },
    {
      "cell_type": "code",
      "source": [
        "from google.colab import drive\n",
        "drive.mount('/content/drive')"
      ],
      "metadata": {
        "colab": {
          "base_uri": "https://localhost:8080/"
        },
        "id": "StlultBR3sMx",
        "outputId": "740cc120-ef55-4793-cbe3-2906f6ce5e7e"
      },
      "execution_count": 1,
      "outputs": [
        {
          "output_type": "stream",
          "name": "stdout",
          "text": [
            "Drive already mounted at /content/drive; to attempt to forcibly remount, call drive.mount(\"/content/drive\", force_remount=True).\n"
          ]
        }
      ]
    },
    {
      "cell_type": "code",
      "source": [
        "!pip install Levenshtein"
      ],
      "metadata": {
        "colab": {
          "base_uri": "https://localhost:8080/"
        },
        "id": "u9jUa_8x4cho",
        "outputId": "f07eb25a-7c16-4748-b8cd-a62744989db4"
      },
      "execution_count": 3,
      "outputs": [
        {
          "output_type": "stream",
          "name": "stdout",
          "text": [
            "Looking in indexes: https://pypi.org/simple, https://us-python.pkg.dev/colab-wheels/public/simple/\n",
            "Collecting Levenshtein\n",
            "  Downloading Levenshtein-0.20.9-cp39-cp39-manylinux_2_17_x86_64.manylinux2014_x86_64.whl (175 kB)\n",
            "\u001b[2K     \u001b[90m━━━━━━━━━━━━━━━━━━━━━━━━━━━━━━━━━━━━━━━\u001b[0m \u001b[32m175.5/175.5 KB\u001b[0m \u001b[31m5.6 MB/s\u001b[0m eta \u001b[36m0:00:00\u001b[0m\n",
            "\u001b[?25hCollecting rapidfuzz<3.0.0,>=2.3.0\n",
            "  Downloading rapidfuzz-2.15.0-cp39-cp39-manylinux_2_17_x86_64.manylinux2014_x86_64.whl (2.2 MB)\n",
            "\u001b[2K     \u001b[90m━━━━━━━━━━━━━━━━━━━━━━━━━━━━━━━━━━━━━━━━\u001b[0m \u001b[32m2.2/2.2 MB\u001b[0m \u001b[31m32.9 MB/s\u001b[0m eta \u001b[36m0:00:00\u001b[0m\n",
            "\u001b[?25hInstalling collected packages: rapidfuzz, Levenshtein\n",
            "Successfully installed Levenshtein-0.20.9 rapidfuzz-2.15.0\n"
          ]
        }
      ]
    },
    {
      "cell_type": "code",
      "source": [
        "import Levenshtein # library for calculating edit distance\n",
        "import numpy as np\n",
        "\n",
        "# Load training data from a tab-separated file where each line contains an incorrect and correct word pair.\n",
        "def load_data(filename):\n",
        "    with open(filename, 'r') as f:\n",
        "        lines = f.readlines()\n",
        "        data = [line.strip().split('\\t') for line in lines]\n",
        "        return data\n",
        "\n",
        "# Calculate the edit distance between two words.\n",
        "def edit_distance(word1, word2):\n",
        "    return Levenshtein.distance(word1, word2)\n",
        "\n",
        "# Train the spelling correction model on the training data.\n",
        "def train_model(data):\n",
        "    model = {}\n",
        "    for pair in data:\n",
        "        incorrect, correct = pair\n",
        "        if incorrect not in model:\n",
        "            model[incorrect] = {}\n",
        "        distance = edit_distance(incorrect, correct)\n",
        "        if distance not in model[incorrect]:\n",
        "            model[incorrect][distance] = {}\n",
        "        if correct not in model[incorrect][distance]:\n",
        "            model[incorrect][distance][correct] = 1\n",
        "        else:\n",
        "            model[incorrect][distance][correct] += 1\n",
        "    return model\n",
        "\n",
        "# Predict the correct spelling of an input word based on the spelling correction model.\n",
        "def predict(model, word):\n",
        "    if word in model:\n",
        "        return word\n",
        "    else:\n",
        "        candidates = {}\n",
        "        for incorrect in model:\n",
        "            distance = edit_distance(incorrect, word)\n",
        "            if distance in model[incorrect]:\n",
        "                for correct in model[incorrect][distance]:\n",
        "                    count = model[incorrect][distance][correct]\n",
        "                    if correct not in candidates:\n",
        "                        candidates[correct] = count\n",
        "                    else:\n",
        "                        candidates[correct] += count\n",
        "        if len(candidates) > 0:\n",
        "            return max(candidates, key=candidates.get)\n",
        "        else:\n",
        "            return word\n",
        "\n",
        "# Evaluate the accuracy of the spelling correction model on a test dataset.\n",
        "def evaluate(model, data):\n",
        "    correct = 0\n",
        "    total = len(data)\n",
        "    for pair in data:\n",
        "        incorrect, correct_word = pair\n",
        "        predicted = predict(model, incorrect)\n",
        "        if predicted == correct_word:\n",
        "            correct += 1\n",
        "    accuracy = correct / total\n",
        "    return accuracy\n",
        "\n",
        "# Load the training and test datasets.\n",
        "train_data = load_data('/content/drive/MyDrive/research/spelling-correction/data/5400random-3error-train-set-luganda-tabbed.txt')\n",
        "test_data = load_data('/content/drive/MyDrive/research/spelling-correction/data/600-3error-test-set-luganda-tabbed.txt')\n",
        "\n",
        "# Train the spelling correction model on the training dataset.\n",
        "model = train_model(train_data)\n",
        "\n",
        "# Evaluate the accuracy of the spelling correction model on the test dataset.\n",
        "accuracy = evaluate(model, test_data)\n",
        "\n",
        "# Print the accuracy of the spelling correction model.\n",
        "print('Accuracy: {:.2f}%'.format(accuracy * 100))\n"
      ],
      "metadata": {
        "colab": {
          "base_uri": "https://localhost:8080/"
        },
        "id": "E4Yy0rye3YQl",
        "outputId": "f248e653-ef68-4b86-8777-932dbbdaa4bc"
      },
      "execution_count": 4,
      "outputs": [
        {
          "output_type": "stream",
          "name": "stdout",
          "text": [
            "Accuracy: 18.83%\n"
          ]
        }
      ]
    }
  ]
}