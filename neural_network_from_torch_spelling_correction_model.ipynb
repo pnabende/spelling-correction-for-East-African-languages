{
  "nbformat": 4,
  "nbformat_minor": 0,
  "metadata": {
    "colab": {
      "provenance": [],
      "toc_visible": true,
      "gpuType": "T4",
      "authorship_tag": "ABX9TyNDjrSpcP15RV5MoYOt7QT0",
      "include_colab_link": true
    },
    "kernelspec": {
      "name": "python3",
      "display_name": "Python 3"
    },
    "language_info": {
      "name": "python"
    },
    "accelerator": "GPU",
    "gpuClass": "standard"
  },
  "cells": [
    {
      "cell_type": "markdown",
      "metadata": {
        "id": "view-in-github",
        "colab_type": "text"
      },
      "source": [
        "<a href=\"https://colab.research.google.com/github/pnabende/spelling-correction-for-East-African-languages/blob/master/neural_network_from_torch_spelling_correction_model.ipynb\" target=\"_parent\"><img src=\"https://colab.research.google.com/assets/colab-badge.svg\" alt=\"Open In Colab\"/></a>"
      ]
    },
    {
      "cell_type": "code",
      "source": [
        "import torch\n",
        "import torch.nn as nn\n",
        "import torch.optim as optim\n",
        "import pandas as pd\n",
        "from torch.utils.data import Dataset, DataLoader"
      ],
      "metadata": {
        "id": "eSUEilW7TJWL"
      },
      "execution_count": 15,
      "outputs": []
    },
    {
      "cell_type": "code",
      "source": [
        "from google.colab import drive\n",
        "drive.mount('/content/drive')"
      ],
      "metadata": {
        "colab": {
          "base_uri": "https://localhost:8080/"
        },
        "id": "V6tXbAUTTKMp",
        "outputId": "aeeb722a-2ee9-4995-e1e3-5df847d5a0c4"
      },
      "execution_count": 7,
      "outputs": [
        {
          "output_type": "stream",
          "name": "stdout",
          "text": [
            "Drive already mounted at /content/drive; to attempt to forcibly remount, call drive.mount(\"/content/drive\", force_remount=True).\n"
          ]
        }
      ]
    },
    {
      "cell_type": "code",
      "source": [
        "# Define the SpellingCorrectionModel\n",
        "class SpellingCorrectionModel(nn.Module):\n",
        "    def __init__(self, num_embeddings, embedding_dim):\n",
        "        super(SpellingCorrectionModel, self).__init__()\n",
        "        self.embedding = nn.Embedding(num_embeddings, embedding_dim)\n",
        "        self.fc = nn.Linear(embedding_dim, num_embeddings)\n",
        "\n",
        "    def forward(self, x):\n",
        "        x = self.embedding(x)\n",
        "        x = self.fc(x)\n",
        "        return x"
      ],
      "metadata": {
        "id": "RmPFtpz1V5JJ"
      },
      "execution_count": 16,
      "outputs": []
    },
    {
      "cell_type": "code",
      "source": [
        "# Define the SpellingCorrectionDataset\n",
        "class SpellingCorrectionDataset(Dataset):\n",
        "    def __init__(self, csv_file):\n",
        "        self.data = pd.read_csv(csv_file)\n",
        "\n",
        "    def __len__(self):\n",
        "        return len(self.data)\n",
        "\n",
        "    def __getitem__(self, idx):\n",
        "        incorrect_word = self.data.loc[idx, 'incorrect_word']\n",
        "        correct_word = self.data.loc[idx, 'correct_word']\n",
        "        \n",
        "        return incorrect_word, correct_word"
      ],
      "metadata": {
        "id": "RwUnR_GHWBoJ"
      },
      "execution_count": 17,
      "outputs": []
    },
    {
      "cell_type": "code",
      "source": [
        "# Training parameters\n",
        "num_epochs = 10\n",
        "batch_size = 64\n",
        "learning_rate = 0.001\n",
        "embedding_dim = 100  # Adjust based on your embedding size"
      ],
      "metadata": {
        "id": "i8BOMl_RWGUu"
      },
      "execution_count": 18,
      "outputs": []
    },
    {
      "cell_type": "code",
      "source": [
        "# Paths to CSV files\n",
        "train_csv_file = '/content/drive/MyDrive/research/spelling-correction/data/6000random-3error-types-lugandaApost.csv'\n",
        "test_csv_file = '/content/drive/MyDrive/research/spelling-correction/data/600-3error-test-set-lugandaApost.csv'\n",
        "\n"
      ],
      "metadata": {
        "id": "dGDsxOUGWJ7_"
      },
      "execution_count": 19,
      "outputs": []
    },
    {
      "cell_type": "code",
      "source": [
        "# Combine train and test datasets to generate vocabulary\n",
        "train_dataset = SpellingCorrectionDataset(train_csv_file)\n",
        "test_dataset = SpellingCorrectionDataset(test_csv_file)\n",
        "combined_dataset = train_dataset + test_dataset"
      ],
      "metadata": {
        "id": "yLdZuXv4rygT"
      },
      "execution_count": 20,
      "outputs": []
    },
    {
      "cell_type": "code",
      "source": [
        "# Generate vocabulary mapping\n",
        "vocabulary = set()\n",
        "for incorrect_word, correct_word in combined_dataset:\n",
        "    vocabulary.add(incorrect_word)\n",
        "    vocabulary.add(correct_word)"
      ],
      "metadata": {
        "id": "hnWLyNu5r53r"
      },
      "execution_count": 21,
      "outputs": []
    },
    {
      "cell_type": "code",
      "source": [
        "# Create vocabulary mapping\n",
        "word_to_index = {word: index for index, word in enumerate(vocabulary)}\n",
        "num_embeddings = len(word_to_index)"
      ],
      "metadata": {
        "id": "_K6jOYYWr91D"
      },
      "execution_count": 22,
      "outputs": []
    },
    {
      "cell_type": "code",
      "source": [
        "# Update SpellingCorrectionDataset to return indices instead of words\n",
        "class SpellingCorrectionDataset(Dataset):\n",
        "    def __init__(self, csv_file):\n",
        "        self.data = pd.read_csv(csv_file)\n",
        "\n",
        "    def __len__(self):\n",
        "        return len(self.data)\n",
        "\n",
        "    def __getitem__(self, idx):\n",
        "        incorrect_word = self.data.loc[idx, 'incorrect_word']\n",
        "        correct_word = self.data.loc[idx, 'correct_word']\n",
        "        \n",
        "        incorrect_index = word_to_index.get(incorrect_word, 0)\n",
        "        correct_index = word_to_index.get(correct_word, 0)\n",
        "        \n",
        "        return incorrect_index, correct_index"
      ],
      "metadata": {
        "id": "dp02KUeNsGzg"
      },
      "execution_count": 23,
      "outputs": []
    },
    {
      "cell_type": "code",
      "source": [
        "# Create the datasets and data loaders\n",
        "train_dataset = SpellingCorrectionDataset(train_csv_file)\n",
        "test_dataset = SpellingCorrectionDataset(test_csv_file)\n",
        "train_dataloader = DataLoader(train_dataset, batch_size=batch_size, shuffle=True)\n",
        "test_dataloader = DataLoader(test_dataset, batch_size=batch_size)"
      ],
      "metadata": {
        "id": "x2kCIRwdrtXs"
      },
      "execution_count": 24,
      "outputs": []
    },
    {
      "cell_type": "code",
      "source": [
        "# Initialize the model and the optimizer\n",
        "model = SpellingCorrectionModel(num_embeddings, embedding_dim)\n",
        "optimizer = optim.Adam(model.parameters(), lr=learning_rate)\n",
        "criterion = nn.CrossEntropyLoss()"
      ],
      "metadata": {
        "id": "hrC1zcKIWMoR"
      },
      "execution_count": 25,
      "outputs": []
    },
    {
      "cell_type": "code",
      "source": [
        "# Training loop\n",
        "total_steps = len(train_dataloader)\n",
        "for epoch in range(num_epochs):\n",
        "    for i, (incorrect_words, correct_words) in enumerate(train_dataloader):\n",
        "        # Forward pass\n",
        "        outputs = model(incorrect_words)\n",
        "        loss = criterion(outputs, correct_words)\n",
        "\n",
        "        # Backward and optimize\n",
        "        optimizer.zero_grad()\n",
        "        loss.backward()\n",
        "        optimizer.step()\n",
        "\n",
        "        if (i+1) % 100 == 0:\n",
        "            print(f'Epoch [{epoch+1}/{num_epochs}], Step [{i+1}/{total_steps}], Loss: {loss.item():.4f}')"
      ],
      "metadata": {
        "id": "Zn4wBewoWQ3X"
      },
      "execution_count": 26,
      "outputs": []
    },
    {
      "cell_type": "code",
      "execution_count": 27,
      "metadata": {
        "colab": {
          "base_uri": "https://localhost:8080/"
        },
        "id": "iDZEyPXOS8Ff",
        "outputId": "c1c89f08-a069-456f-ece3-b8480a010086"
      },
      "outputs": [
        {
          "output_type": "stream",
          "name": "stdout",
          "text": [
            "Accuracy of the model on the test dataset: 98.33%\n"
          ]
        }
      ],
      "source": [
        "# Test the model\n",
        "with torch.no_grad():\n",
        "    correct = 0\n",
        "    total = 0\n",
        "    for incorrect_words, correct_words in test_dataloader:\n",
        "        outputs = model(incorrect_words)\n",
        "        _, predicted = torch.max(outputs.data, 1)\n",
        "        total += correct_words.size(0)\n",
        "        correct += (predicted == correct_words).sum().item()\n",
        "\n",
        "    print(f'Accuracy of the model on the test dataset: {(correct / total) * 100:.2f}%')\n",
        "    "
      ]
    }
  ]
}